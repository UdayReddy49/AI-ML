{
 "cells": [
  {
   "cell_type": "code",
   "execution_count": 1,
   "metadata": {},
   "outputs": [
    {
     "name": "stdout",
     "output_type": "stream",
     "text": [
      "1\n",
      "2\n",
      "3\n",
      "4\n"
     ]
    }
   ],
   "source": [
    "for i in range (1,11):\n",
    "    if i % 5 == 0:\n",
    "        break\n",
    "    else:\n",
    "        print(i)"
   ]
  },
  {
   "cell_type": "code",
   "execution_count": 2,
   "metadata": {},
   "outputs": [
    {
     "name": "stdout",
     "output_type": "stream",
     "text": [
      "1\n",
      "2\n",
      "3\n",
      "4\n",
      "6\n",
      "7\n",
      "8\n",
      "9\n"
     ]
    }
   ],
   "source": [
    "for i in range (1,11):\n",
    "    if i % 5 == 0:\n",
    "        continue\n",
    "    else:\n",
    "        print(i)"
   ]
  },
  {
   "cell_type": "code",
   "execution_count": 3,
   "metadata": {},
   "outputs": [
    {
     "name": "stdout",
     "output_type": "stream",
     "text": [
      "enter username254\n",
      "Enter password411\n",
      "Wrong username and password\n"
     ]
    }
   ],
   "source": [
    "username=(input(\"enter username\"))\n",
    "password=(input(\"Enter password\"))\n",
    "while username == \"python\":\n",
    "    break\n",
    "while password ==\"abc123\":\n",
    "    print(\"Login Successful\")\n",
    "    break\n",
    "else:\n",
    "    print(\"Wrong username and password\")\n"
   ]
  },
  {
   "cell_type": "code",
   "execution_count": 4,
   "metadata": {},
   "outputs": [
    {
     "name": "stdout",
     "output_type": "stream",
     "text": [
      "Hello uday\n"
     ]
    }
   ],
   "source": [
    "def name(username): #function definition\n",
    "    print(\"Hello\",username)\n",
    "name(\"uday\") #Function calling"
   ]
  },
  {
   "cell_type": "code",
   "execution_count": null,
   "metadata": {},
   "outputs": [
    {
     "name": "stdout",
     "output_type": "stream",
     "text": [
      "enter username: uday\n",
      "enter username: python123\n",
      "enter username: python\n",
      "enter password: jjs\n"
     ]
    }
   ],
   "source": [
    "while True:\n",
    "    user =input(\"enter username: \")\n",
    "    if user == \"python\":\n",
    "        pwd = input(\"enter password: \")\n",
    "        if pwd == \"abc123\":\n",
    "            print(\"Login Success!!\")\n",
    "            break"
   ]
  },
  {
   "cell_type": "code",
   "execution_count": 6,
   "metadata": {},
   "outputs": [],
   "source": [
    "if 12<34:\n",
    "    pass\n",
    "else:\n",
    "    print(\"else\")"
   ]
  },
  {
   "cell_type": "code",
   "execution_count": 8,
   "metadata": {},
   "outputs": [],
   "source": [
    "if 12<34:\n",
    "    pass\n",
    "else:\n",
    "    print(\"else\")"
   ]
  },
  {
   "cell_type": "code",
   "execution_count": 1,
   "metadata": {},
   "outputs": [
    {
     "name": "stdout",
     "output_type": "stream",
     "text": [
      "144\n"
     ]
    }
   ],
   "source": [
    "def addi(a,b):\n",
    "    return a+b,a-b,a*b,a/b\n",
    "add,sub,mul,div = addi(12,12)\n",
    "print(mul)\n"
   ]
  },
  {
   "cell_type": "code",
   "execution_count": 2,
   "metadata": {},
   "outputs": [
    {
     "name": "stdout",
     "output_type": "stream",
     "text": [
      "1200\n",
      "276\n"
     ]
    }
   ],
   "source": [
    "def mul(a,b=100):\n",
    "    return a*b\n",
    "print(mul(12))\n",
    "print(mul(12,23))"
   ]
  },
  {
   "cell_type": "code",
   "execution_count": 3,
   "metadata": {},
   "outputs": [
    {
     "name": "stdout",
     "output_type": "stream",
     "text": [
      "a value : 20\n",
      "b value : 12\n"
     ]
    },
    {
     "data": {
      "text/plain": [
       "8"
      ]
     },
     "execution_count": 3,
     "metadata": {},
     "output_type": "execute_result"
    }
   ],
   "source": [
    "def sub(a,b):\n",
    "    print(\"a value :\",a)\n",
    "    print(\"b value :\",b)\n",
    "    return (a-b)\n",
    "\n",
    "sub(b=12,a=20)\n",
    "\n"
   ]
  },
  {
   "cell_type": "code",
   "execution_count": 4,
   "metadata": {},
   "outputs": [
    {
     "name": "stdout",
     "output_type": "stream",
     "text": [
      "24\n",
      "58\n",
      "33\n"
     ]
    }
   ],
   "source": [
    "def add(*a):\n",
    "    return sum(a)\n",
    "print(add(12,12))\n",
    "print(add(12,12,34))\n",
    "print(add(12,12,4,5))\n",
    "\n",
    "\n"
   ]
  },
  {
   "cell_type": "code",
   "execution_count": 5,
   "metadata": {},
   "outputs": [
    {
     "name": "stdout",
     "output_type": "stream",
     "text": [
      "[1, 2, 3, 10, 20, 30]\n",
      "[1, 2, 3, 1, 2, 3, 1, 2, 3]\n",
      "2\n",
      "[2, 3]\n",
      "True\n",
      "False\n"
     ]
    }
   ],
   "source": [
    "list1 = [1,2,3]\n",
    "list2 = [10,20,30]\n",
    "print(list1+list2) #concatenation\n",
    "print(list1*3) #repetition\n",
    "print(list1[1]) #2\n",
    "print(list1[1:3]) #slice\n",
    "print(2 in list1) #True\n",
    "print(200 in list2) #False"
   ]
  },
  {
   "cell_type": "code",
   "execution_count": null,
   "metadata": {},
   "outputs": [],
   "source": [
    "list1=[1,2,3,40]\n",
    "s1=\"python\"\n",
    "print(len(list1))\n",
    "print(min(list1))\n",
    "print(max(list1))\n",
    "list2=list(s1)\n",
    "print(list2)\n",
    "list1[-1]=100\n",
    "print (list1)\n",
    "\n",
    "\n",
    "\n"
   ]
  }
 ],
 "metadata": {
  "kernelspec": {
   "display_name": "Python 3",
   "language": "python",
   "name": "python3"
  },
  "language_info": {
   "codemirror_mode": {
    "name": "ipython",
    "version": 3
   },
   "file_extension": ".py",
   "mimetype": "text/x-python",
   "name": "python",
   "nbconvert_exporter": "python",
   "pygments_lexer": "ipython3",
   "version": "3.7.4"
  }
 },
 "nbformat": 4,
 "nbformat_minor": 2
}
